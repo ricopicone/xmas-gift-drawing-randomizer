{
 "cells": [
  {
   "cell_type": "code",
   "execution_count": 1,
   "metadata": {},
   "outputs": [],
   "source": [
    "import random as rn"
   ]
  },
  {
   "cell_type": "code",
   "execution_count": 2,
   "metadata": {},
   "outputs": [],
   "source": [
    "names = { # people and disallowed receivers for them\n",
    "  'Rico': ['Perrin'],\n",
    "  'Perrin': ['Rico'],\n",
    "  'Mom': ['Dad'],\n",
    "  'Dad': ['Mom'],\n",
    "  'Nina': ['Kyle'],\n",
    "  'Kyle': ['Nina'],\n",
    "  'Maria': ['Tom'],\n",
    "  'Tom': ['Maria'],\n",
    "  'Tina': ['Kyle','Nina'],\n",
    "}"
   ]
  },
  {
   "cell_type": "markdown",
   "metadata": {},
   "source": [
    "Define \"two-way\" duality checker for exclusion."
   ]
  },
  {
   "cell_type": "code",
   "execution_count": 5,
   "metadata": {},
   "outputs": [],
   "source": [
    "def is_duality(gives_to,giver,receiver):\n",
    "  if receiver in gives_to:\n",
    "    if gives_to[receiver] is giver:\n",
    "      return True\n",
    "  return False"
   ]
  },
  {
   "cell_type": "markdown",
   "metadata": {},
   "source": [
    "Make selections."
   ]
  },
  {
   "cell_type": "code",
   "execution_count": 13,
   "metadata": {},
   "outputs": [
    {
     "name": "stdout",
     "output_type": "stream",
     "text": [
      "Rico gives gift to Tom\n",
      "Perrin gives gift to Kyle\n",
      "Mom gives gift to Rico\n",
      "Dad gives gift to Maria\n",
      "Nina gives gift to Mom\n",
      "Kyle gives gift to Dad\n",
      "Maria gives gift to Tina\n",
      "Tom gives gift to Nina\n",
      "Tina gives gift to Perrin\n"
     ]
    }
   ],
   "source": [
    "received = [] # already chosen to receive\n",
    "gives_to = dict()\n",
    "max_its = 2*len(names)\n",
    "for giver in names:\n",
    "  receiver = rn.choice(list(names.keys()))\n",
    "  its = 0 # iterator for breaking in case no solution found\n",
    "  while giver is receiver or receiver in names[giver] or receiver in received or is_duality(gives_to,giver,receiver):\n",
    "    receiver = rn.choice(list(names.keys()))\n",
    "    its += its\n",
    "    if its >= max_its:\n",
    "      raise('No solution found. Try re-running.')\n",
    "    \n",
    "  received.append(receiver)\n",
    "  gives_to[giver] = receiver\n",
    "  print(f'{giver} gives gift to {receiver}')"
   ]
  }
 ],
 "metadata": {
  "kernelspec": {
   "display_name": "Python 3",
   "language": "python",
   "name": "python3"
  },
  "language_info": {
   "codemirror_mode": {
    "name": "ipython",
    "version": 3
   },
   "file_extension": ".py",
   "mimetype": "text/x-python",
   "name": "python",
   "nbconvert_exporter": "python",
   "pygments_lexer": "ipython3",
   "version": "3.7.3"
  },
  "varInspector": {
   "cols": {
    "lenName": 16,
    "lenType": 16,
    "lenVar": 40
   },
   "kernels_config": {
    "python": {
     "delete_cmd_postfix": "",
     "delete_cmd_prefix": "del ",
     "library": "var_list.py",
     "varRefreshCmd": "print(var_dic_list())"
    },
    "r": {
     "delete_cmd_postfix": ") ",
     "delete_cmd_prefix": "rm(",
     "library": "var_list.r",
     "varRefreshCmd": "cat(var_dic_list()) "
    }
   },
   "types_to_exclude": [
    "module",
    "function",
    "builtin_function_or_method",
    "instance",
    "_Feature"
   ],
   "window_display": false
  }
 },
 "nbformat": 4,
 "nbformat_minor": 2
}
